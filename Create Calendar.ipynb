{
 "cells": [
  {
   "cell_type": "code",
   "metadata": {
    "tags": [],
    "cell_id": "00000-32d68e61-5133-4422-80c2-1daf778ce751",
    "deepnote_to_be_reexecuted": false,
    "source_hash": "5bc83524",
    "execution_start": 1640553732615,
    "execution_millis": 9426,
    "deepnote_cell_type": "code"
   },
   "source": "from datetime import datetime, date\nimport calendar\n!pip install fpdf\nfrom fpdf import FPDF",
   "execution_count": 1,
   "outputs": [
    {
     "name": "stdout",
     "text": "Requirement already satisfied: fpdf in /root/venv/lib/python3.7/site-packages (1.7.2)\n\u001b[33mWARNING: You are using pip version 20.1.1; however, version 21.3.1 is available.\nYou should consider upgrading via the '/root/venv/bin/python -m pip install --upgrade pip' command.\u001b[0m\n",
     "output_type": "stream",
     "data": {}
    }
   ]
  },
  {
   "cell_type": "code",
   "metadata": {
    "tags": [],
    "cell_id": "00002-95b2d625-6408-43ba-a9e4-fe378bf29fac",
    "deepnote_to_be_reexecuted": false,
    "source_hash": "d1802a4c",
    "execution_start": 1640553742082,
    "execution_millis": 96,
    "deepnote_output_heights": [
     78.75
    ],
    "deepnote_cell_type": "code"
   },
   "source": "class PDF(FPDF):\n    def header(self):\n        self.set_font('Arial', 'B', 32)\n        self.set_text_color(59, 78, 135)\n        self.cell(80)  # Move to the right\n        self.cell(30, 10, f'{month_txt} {year}', 0, 0, 'C')  # Title\n        self.ln(20) # Line break\n\n    def weeks(self):\n        first_day = date(year, month, 1)\n        fdom = first_day.isoweekday()\n\n        # wk 1\n        for x in range(1, fdom): \n            wk_1.append(\"\")\n        for x in range(1, 8 - len(wk_1)):\n            wk_1.append(x)\n\n        # wk 2\n        for x in range(wk_1[-1]+1, wk_1[-1] + 8):\n            wk_2.append(x)\n\n        # wk 3\n        for x in range(wk_2[-1]+1, wk_2[-1] + 8):\n            wk_3.append(x)\n\n        # wk 4\n        for x in range(wk_3[-1]+1, wk_3[-1] + 8):\n            wk_4.append(x)\n\n        # wk 5\n        if (calendar.monthrange(year, month)[1] - wk_4[-1]) >= 7:\n            for x in range(wk_4[-1]+1, wk_4[-1] + 8):\n                wk_5.append(x)\n            for x in range(7 - len(wk_5)):\n                wk_5.append(\"\")\n        else:\n            for x in range(wk_4[-1]+1, calendar.monthrange(year, month)[1]+1):\n                wk_5.append(x)\n            for x in range(7 - len(wk_5)):\n                wk_5.append(\"\")\n\n        # wk 6\n        if \"\" not in wk_5 and calendar.monthrange(year, month)[1] not in wk_5:\n            for x in range(wk_5[-1]+1, calendar.monthrange(year, month)[1]+1):\n                wk_6.append(x)\n            for x in range(7 - len(wk_6)):\n                wk_6.append(\"\")\n        else:\n            pass\n\n        global length\n        global ht\n        if \"\" or calendar.monthrange(year, month)[1] in wk_5:\n            length = 5\n            ht = 44\n        elif \"\" in wk_6:\n            length = 6\n            ht = 38\n    \n    def table_row(self, wk_x):\n        self.set_font('Arial', 'B', 24)\n        self.set_text_color(0, 0, 255)\n        self.wk_x = wk_x\n        mon, tue, wed, thu, fri, sat, sun = wk_x\n\n        wd = 28\n        self.cell(wd, ht, f'{mon}', 1, 0, 'L', fill = False)\n        self.cell(wd, ht, f'{tue}', 1, 0, 'L', fill = False)\n        self.cell(wd, ht, f'{wed}', 1, 0, 'L', fill = False)\n        self.cell(wd, ht, f'{thu}', 1, 0, 'L', fill = False)\n        self.cell(wd, ht, f'{fri}', 1, 0, 'L', fill = False)\n        self.set_text_color(103, 202, 77)\n        self.cell(wd, ht, f'{sat}', 1, 0, 'L', fill = False)\n        self.cell(wd, ht, f'{sun}', 1, 0, 'L', fill = False)\n        self.ln()\n\n    def table(self):\n        for x in range(1,length+1):\n            self.table_row(eval(f'wk_{x}'))\n\n    def month_table(self):\n        self.add_page() # Add page\n        self.set_font('Arial', 'B', 10)\n        self.set_text_color(255, 255, 255)\n        self.set_fill_color(59, 78, 135)\n        wd = 28\n        self.cell(wd, 10, 'Monday', 0, 0, 'C', fill = True)\n        self.cell(wd, 10, 'Tuesday', 0, 0, 'C', fill = True)\n        self.cell(wd, 10, 'Wednesday', 0, 0, 'C', fill = True)\n        self.cell(wd, 10, 'Thursday', 0, 0, 'C', fill = True)\n        self.cell(wd, 10, 'Friday', 0, 0, 'C', fill = True)\n        self.cell(wd, 10, 'Saturday', 0, 0, 'C', fill = True)\n        self.cell(wd, 10, 'Sunday', 0, 0, 'C', fill = True)\n        self.ln()\n        self.table()\n\n    def month_only(self):\n        self.weeks()\n        self.month_table()\n        self.output(f'{month_txt} {year}.pdf') # save the pdf\n\n    def year_only(self):\n        self.weeks()\n        self.month_table()",
   "execution_count": 2,
   "outputs": []
  },
  {
   "cell_type": "code",
   "source": "all_months = [*range(1, 13)] # 12 months in list\nyear = 2022 # year\n\npdf = PDF(orientation = 'P', unit = 'mm', format='A4') # save FPDF() class into a variable pdf\n\nfor month in all_months:\n    wk_1 = []\n    wk_2 = []\n    wk_3 = []\n    wk_4 = []\n    wk_5 = []\n    wk_6 = []\n    month_txt = calendar.month_name[month]\n    pdf.year_only()\n\npdf.output(f'{year}.pdf') # save the pdf",
   "metadata": {
    "tags": [],
    "cell_id": "00004-5b6ebdb8-3cd1-4d86-9d2d-60535556657e",
    "deepnote_to_be_reexecuted": false,
    "source_hash": "29c926e2",
    "execution_start": 1640553742255,
    "execution_millis": 69,
    "deepnote_output_heights": [
     21.1875
    ],
    "deepnote_cell_type": "code"
   },
   "outputs": [
    {
     "output_type": "execute_result",
     "execution_count": 3,
     "data": {
      "text/plain": "''"
     },
     "metadata": {}
    }
   ],
   "execution_count": 3
  },
  {
   "cell_type": "markdown",
   "source": "<a style='text-decoration:none;line-height:16px;display:flex;color:#5B5B62;padding:10px;justify-content:end;' href='https://deepnote.com?utm_source=created-in-deepnote-cell&projectId=bee3e49b-f8d8-48c3-9cbc-09557eaff4d0' target=\"_blank\">\n<img alt='Created in deepnote.com' style='display:inline;max-height:16px;margin:0px;margin-right:7.5px;' src='data:image/svg+xml;base64,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' > </img>\nCreated in <span style='font-weight:600;margin-left:4px;'>Deepnote</span></a>",
   "metadata": {
    "tags": [],
    "created_in_deepnote_cell": true,
    "deepnote_cell_type": "markdown"
   }
  }
 ],
 "nbformat": 4,
 "nbformat_minor": 2,
 "metadata": {
  "orig_nbformat": 2,
  "deepnote": {
   "is_reactive": false
  },
  "deepnote_notebook_id": "c8ecf3cb-c410-4f11-a3d4-a7a07449632d",
  "deepnote_execution_queue": []
 }
}